{
 "cells": [
  {
   "cell_type": "markdown",
   "metadata": {},
   "source": [
    "<h3 align=\"center\">Opening of New Restaurant in North York, Canada</h3> "
   ]
  },
  {
   "cell_type": "markdown",
   "metadata": {},
   "source": [
    "**Problem Background :**"
   ]
  },
  {
   "cell_type": "markdown",
   "metadata": {},
   "source": [
    "North York is one of the six administrative districts of Toronto, Ontario, Canada.It is located directly north of York, Old Toronto and East York, between Etobicoke to the west and Scarborough to the east. As of the 2016 Census, it had a population of 869,401. \n",
    "In the city centre we dont have any good South Indian cuisines, so to experience the taste of South Indian dishes along with Chinese and Western fast food  with a feel-good and relaxing environment, I always had an idea to start a Restaurant since my undergraduate days where all the International dishes \n",
    "will be served and can be customised to cater to the tastes of the Indian and Canadian population living in Canada."
   ]
  },
  {
   "cell_type": "markdown",
   "metadata": {},
   "source": [
    "**Problem description :**"
   ]
  },
  {
   "cell_type": "markdown",
   "metadata": {},
   "source": [
    "Food is an important factor when it comes to holidays and trips which can also attract people around to world to try it out if it were to be the best. In such scenarios, we need to find the right place, at reasonable cost, to serve us the best possible way. So there are few questions that must be addresed, such as :\n",
    "\n",
    "1.What is the covid-19 precautions and rules followed in the Restaurant?  \n",
    "2.How many types of foods are available in the restaurant?  \n",
    "3.Which is the most nearest to me with good rating?  \n",
    "4.How healthy and tasty is the food provided?  \n",
    "5.Do the \"similar\" restaurants cost more? If yes, what is the unique feature they have?  \n",
    "6.To address such question, XXYZ company's manager decides to allocate this project to me not just to find out solutions to the questions but also build a system that can help in recommending new places based on their rankings compared to the previously visited by me.  \n",
    "\n",
    "Expectations from this recommender system is to get answer for the questions, and in such a way that it uncovers all the perspective of managing recommendations. It is sighted to show :  \n",
    "\n",
    "1.What types of restaurants are present in a particular area ?  \n",
    "2.Where are the similar restaurant present based on a preference to particular food ?  \n",
    "3.How do different restaurants rank with respect to my preferences ?  "
   ]
  },
  {
   "cell_type": "markdown",
   "metadata": {},
   "source": [
    "**Target audience :**  \n",
    "  \n",
    "Target audiences for this project does not limit to a person who keeps travelling but everyone. People could simply decide to look for a similar restaurant all the time because they are addicted to a specific category of food. People who rarely use restaurants would prefer to have the most rated restaurants nearby them and all this could be easily handed by our recommender system. So target for this project is basically everyone who is exploring different places or similar places.\n",
    "\n",
    "**Success rate :**  \n",
    "  \n",
    "With restaurants evolving, new food categories emerge, hybrid food starts to be more popular, we need a system that could help us access vast number of food varieties. It is impossible for a person to ask each and everyone about their visit to a particular place and also not everyone remembers everything. On the other hand, Computers are good at remembering things, and with Machine learning to its peak, it high time technology will by our personal guidence and help us personally based on our likes and dislikes. So people would care about this project as their personal assistance and success rate could certainly increase with time."
   ]
  }
 ],
 "metadata": {
  "kernelspec": {
   "display_name": "Python 3",
   "language": "python",
   "name": "python3"
  },
  "language_info": {
   "codemirror_mode": {
    "name": "ipython",
    "version": 3
   },
   "file_extension": ".py",
   "mimetype": "text/x-python",
   "name": "python",
   "nbconvert_exporter": "python",
   "pygments_lexer": "ipython3",
   "version": "3.8.3"
  }
 },
 "nbformat": 4,
 "nbformat_minor": 4
}

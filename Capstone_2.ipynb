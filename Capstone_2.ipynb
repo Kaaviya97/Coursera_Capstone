{
 "cells": [
  {
   "cell_type": "markdown",
   "metadata": {},
   "source": [
    "<h3 align=\"center\">Opening of New Restaurant at Karur, Tamil Nadu</h3> "
   ]
  },
  {
   "cell_type": "markdown",
   "metadata": {},
   "source": [
    "**Problem Background :**"
   ]
  },
  {
   "cell_type": "markdown",
   "metadata": {},
   "source": [
    "Karur is a city in the Indian state of Tamil Nadu. It is located on the banks of River Amaravathi and  well known for industrial centre and was a capital of early Chera Kings of Sangam age as said before. This city is famous for to cottage and handloom textiles too. Pasupatheeswarar Temple is the land mark of the Karur City.\n",
    "\n",
    "In the city centre we dont have any good relaxing restaurants for people to enjoy their weekends and holidays. South Indian cuisines are majorly available at our place and\n",
    "Chinese and Western fast food are not very much popular. During my college days, I always had an idea to start a Restaurant in our city where all the international dishes \n",
    "will be served and can be customised to cater to the tastes of the Indian population."
   ]
  },
  {
   "cell_type": "markdown",
   "metadata": {},
   "source": [
    "**Problem description :**"
   ]
  },
  {
   "cell_type": "markdown",
   "metadata": {},
   "source": [
    "Food is an important factor when it comes to holidays and trips which can also attract people around to world to try it out if it were to be the best. In such scenarios, we need to find the right place, at reasonable cost, to serve us the best possible way. So there are few questions that must be addresed, such as :\n",
    "\n",
    "1.What is the covid-19 precautions and rules followed in the Restaurant?  \n",
    "2.How many types of foods are available in the restaurant?  \n",
    "3.Which is the most nearest to me with good rating?  \n",
    "4.How healthy and tasty is the food provided?  \n",
    "5.Do the \"similar\" restaurants cost more? If yes, what is the unique feature they have?  \n",
    "6.To address such question, XXYZ company's manager decides to allocate this project to me not just to find out solutions to the questions but also build a system that can help in recommending new places based on their rankings compared to the previously visited by me.  \n",
    "\n",
    "Expectations from this recommender system is to get answer for the questions, and in such a way that it uncovers all the perspective of managing recommendations. It is sighted to show :  \n",
    "\n",
    "1.What types of restaurants are present in a particular area ?  \n",
    "2.Where are the similar restaurant present based on a preference to particular food ?  \n",
    "3.How do different restaurants rank with respect to my preferences ?  "
   ]
  },
  {
   "cell_type": "markdown",
   "metadata": {},
   "source": [
    "**Target audience :**  \n",
    "  \n",
    "Target audiences for this project does not limit to a person who keeps travelling but everyone. People could simply decide to look for a similar restaurant all the time because they are addicted to a specific category of food. People who rarely use restaurants would prefer to have the most rated restaurants nearby them and all this could be easily handed by our recommender system. So target for this project is basically everyone who is exploring different places or similar places.\n",
    "\n",
    "**Success rate :**  \n",
    "  \n",
    "With restaurants evolving, new food categories emerge, hybrid food starts to be more popular, we need a system that could help us access vast number of food varieties. It is impossible for a person to ask each and everyone about their visit to a particular place and also not everyone remembers everything. On the other hand, Computers are good at remembering things, and with Machine learning to its peak, it high time technology will by our personal guidence and help us personally based on our likes and dislikes. So people would care about this project as their personal assistance and success rate could certainly increase with time."
   ]
  }
 ],
 "metadata": {
  "kernelspec": {
   "display_name": "Python 3",
   "language": "python",
   "name": "python3"
  },
  "language_info": {
   "codemirror_mode": {
    "name": "ipython",
    "version": 3
   },
   "file_extension": ".py",
   "mimetype": "text/x-python",
   "name": "python",
   "nbconvert_exporter": "python",
   "pygments_lexer": "ipython3",
   "version": "3.8.3"
  }
 },
 "nbformat": 4,
 "nbformat_minor": 4
}
